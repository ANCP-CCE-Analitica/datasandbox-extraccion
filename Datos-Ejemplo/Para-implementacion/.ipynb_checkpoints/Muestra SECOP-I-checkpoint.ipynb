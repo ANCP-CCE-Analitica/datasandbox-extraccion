{
 "cells": [
  {
   "cell_type": "markdown",
   "id": "c17e8715-91b5-44aa-a623-c80e8d650aea",
   "metadata": {},
   "source": [
    "<div style=\"  padding: 10px;text-align: center;\" class='row'>\n",
    "<div style=\"float:left;width: 10%;\" class='column'><a href=\"https://datos.gov.co/\"><img alt=\"Logo DataSandbox\"  src=\"https://github.com/DataSandbox/Plantilla-Publicacion-Resultados/raw/main/App/logdat.JPG\" style=\"width: 100px;\"></a></div>\n",
    "    <div style=\"float:left;width: 80%;\" class='column'>\n",
    "        <h1>EXTRACCIÓN DE INFORMACIÓN EN DOCUMENTOS DE PROCESOS DE CONTRATACIÓN PÚBLICA\n",
    "        </h1> \n",
    "    </div>\n",
    " <div style=\"float:left;width: 10%;\" class='column'><a href=\"https://www.colombiacompra.gov.co/\" target=\"_blank\"><img class=\"float-right\" src=\"https://raw.githubusercontent.com/ANCP-CCE-Analitica/datasandbox-extraccion/main/logo_ancp_cce_web.png\" style=\"width: 200px;\"></a></div>\n",
    "    </div>"
   ]
  },
  {
   "cell_type": "markdown",
   "id": "d0d14415",
   "metadata": {
    "tags": []
   },
   "source": [
    "# Obtención de muestra de contratos del secop"
   ]
  },
  {
   "cell_type": "code",
   "execution_count": null,
   "id": "ef4c687c",
   "metadata": {},
   "outputs": [],
   "source": [
    "import pandas as pd\n",
    "from sodapy import Socrata\n",
    "pd.set_option(\"display.max_columns\", None)"
   ]
  },
  {
   "cell_type": "markdown",
   "id": "bad385b8",
   "metadata": {},
   "source": [
    "## EDA datos SECOP I\n",
    "### Carga de datos completos, SECOP hasta el 06/10/2021"
   ]
  },
  {
   "cell_type": "markdown",
   "id": "158fb446",
   "metadata": {},
   "source": [
    "Para obtener los contratos del SECOP I, se toma la base de datos de SECOP I en su totalidad y de esta se saca una muestra con base en la modalidad de contratación y el nombre de la entidad. La siguiente pieza de código muestra como se puede hacer a traves de `socrata`para mayor información consultar en [https://dev.socrata.com/foundry/www.datos.gov.co/xvdy-vvsk](https://dev.socrata.com/foundry/www.datos.gov.co/xvdy-vvsk)"
   ]
  },
  {
   "cell_type": "code",
   "execution_count": null,
   "id": "67c18d1c",
   "metadata": {},
   "outputs": [],
   "source": [
    "client = Socrata(\"www.datos.gov.co\",\n",
    "                 \"App_Token\",\n",
    "                 username=\"example@mail.com\",\n",
    "                 password=\"PassWord\")\n",
    "results = client.get(\"xvdy-vvsk\", limit=1300000)\n",
    "df = pd.DataFrame.from_records(results)"
   ]
  },
  {
   "cell_type": "markdown",
   "id": "28d1a8cb",
   "metadata": {},
   "source": [
    "### Visualización de las columnas y conteo de frecuencias"
   ]
  },
  {
   "cell_type": "markdown",
   "id": "c99d5a0d",
   "metadata": {},
   "source": [
    "Para entender el comportamiento y la distribución de los datos, miramos la cantidad de contratos y procesos en los que participaron las diferentes entidades y cómo se ditribuyen estos por la modalidad de contratación. De esta forma, vemos que existen un grán número de entidades que han participado en múltiples procesos, sin embargo así mismo existen varias entidades que han participado en pocos procesos o incluso 1. Similar a esto, se puede observar que la mayoría de los procesos se encuentran en 11 de las diferentes modalidades, los cuales tienen más de 10 mil procesos cada una."
   ]
  },
  {
   "cell_type": "markdown",
   "id": "74510d72-32ca-483b-8de2-e44dd7e35d02",
   "metadata": {},
   "source": [
    "Usamos la base `Mapeo_Variables_SECOPI.xlsx ` para usar los nombres de las variables registrados en el diccionario de datos."
   ]
  },
  {
   "cell_type": "code",
   "execution_count": null,
   "id": "de004b34-ef8b-4d58-bff0-8f2de0deee28",
   "metadata": {},
   "outputs": [],
   "source": [
    "DF=pd.read_excel('Mapeo_Variables_SECOPI.xlsx')\n",
    "new_columns=[]\n",
    "for i in df.columns:\n",
    "    h=0\n",
    "    for j in DF['Socrata'].index:\n",
    "        if i==DF['Socrata'][j]:\n",
    "            h=1\n",
    "            new_columns.append(DF['Datos Abiertos'][j])\n",
    "    if h==0:\n",
    "        print(i)\n",
    "        new_columns.append(i)\n",
    "        \n",
    "df.columns=new_columns"
   ]
  },
  {
   "cell_type": "markdown",
   "id": "2109fee3-f249-4df2-8ce7-42dc635f207a",
   "metadata": {},
   "source": [
    "Las variables que no se actualizan según el diccionario de datos apareceran impresas."
   ]
  },
  {
   "cell_type": "markdown",
   "id": "ffdd8090-74c4-458a-9b5c-eb1e8e06a55e",
   "metadata": {},
   "source": [
    "Veamos la distribución según las entidades:"
   ]
  },
  {
   "cell_type": "code",
   "execution_count": null,
   "id": "b6dc9de0",
   "metadata": {
    "scrolled": true
   },
   "outputs": [],
   "source": [
    "df[\"Nombre de la Entidad\"].value_counts()"
   ]
  },
  {
   "cell_type": "markdown",
   "id": "5105a65e-8c93-46a0-9fd1-1955ac039701",
   "metadata": {},
   "source": [
    "Según el tipo de proceso:"
   ]
  },
  {
   "cell_type": "code",
   "execution_count": null,
   "id": "f5073d96",
   "metadata": {},
   "outputs": [],
   "source": [
    "df[\"Tipo de Proceso\"].value_counts()"
   ]
  },
  {
   "cell_type": "markdown",
   "id": "a831177c",
   "metadata": {},
   "source": [
    "### Borrado de datos repetidos por \"Nombre de entidad\" y \"Tipo de Proceso\""
   ]
  },
  {
   "cell_type": "markdown",
   "id": "d302cdd2",
   "metadata": {},
   "source": [
    "Para obtener una mayor variedad en el tipo de contrato, en su formato y en el archivo del contrato que contiene el proceso, se reducen los datos de tal forma que solo se guarde un contrato para cada entidad por cada modalidad de contratación. Es decir que una misma entidad puede tener varios contratos, pero solo uno de un mismo tipo de modalidad de contratación."
   ]
  },
  {
   "cell_type": "code",
   "execution_count": null,
   "id": "ca192f29",
   "metadata": {},
   "outputs": [],
   "source": [
    "df = df.drop_duplicates(subset=[\"Nombre de la Entidad\", \"Tipo de Proceso\"]) #11"
   ]
  },
  {
   "cell_type": "markdown",
   "id": "daec8a69",
   "metadata": {},
   "source": [
    "Luego de reducir los contratos repetidos por entidad y modalidad de contratación, se observa la distribución de los contratos por la modalidad de contratación para obtener los procesos que son más recurrentes y que, de esta forma se pueda sacar la muestra de los contratos más representativos."
   ]
  },
  {
   "cell_type": "code",
   "execution_count": null,
   "id": "4d82169c",
   "metadata": {},
   "outputs": [],
   "source": [
    "df[\"Tipo de Proceso\"].value_counts()"
   ]
  },
  {
   "cell_type": "markdown",
   "id": "ad2e068b",
   "metadata": {},
   "source": [
    "## Partición en grupos por Modalidad de contratación\n",
    "Se toman los contratos que tienen más de 10,000 contratos en su modalidad antes de ser filtrados, con el fin de usar los tipos de contratos que son más relevantes y frecuentes, sin dividir en exceso los datos en grupos con muy pocos contratos.<br>\n",
    "De estos grupos de saca una muestra aleatoria de 2000 contratos en los grupos que se puede y se toma el grupo completo en los que tienen menos de 2000 contratos.<br>\n",
    "Por los tanto los contratos de los que se toma la muestra son los siguientes:<br>\n",
    "<ul>\n",
    "    <li>Contratación Directa (Ley 1150 de 2007)</li>\n",
    "    <li>Régimen Especial</li>\n",
    "    <li>Contratación Mínima Cuantía</li>\n",
    "    <li>Selección Abreviada de Menor Cuantía (Ley 1150 de 2007)</li>\n",
    "    <li>Subasta</li>\n",
    "    <li>Licitación Pública</li>\n",
    "    <li>Concurso de Méritos Abierto</li>\n",
    "    <li>Contratación Directa Menor Cuantía</li>\n",
    "    <li>Otras Formas de Contratación Directa</li>\n",
    "    <li>Contratos y convenios con más de dos partes</li>\n",
    "    <li>Licitación obra pública</li>\n",
    "</ul>"
   ]
  },
  {
   "cell_type": "markdown",
   "id": "b89a28c5",
   "metadata": {},
   "source": [
    "## Muestreo aleatorio de 2000 contratos por \"Tipo de Proceso\"\n",
    "Se extrae una muestra de 2000 contratos aleatorios de cada \"tipo de Proceso\". Sin embargo, se observa que luego de borrar los duplicados el número de contratos en varias modalidades de contratación disminuye por debajo de la cantidad de la muestra, por lo tanto se toman estos contratos en su totalidad."
   ]
  },
  {
   "cell_type": "code",
   "execution_count": null,
   "id": "43b818b9-3e94-48cb-be71-ad2ddb8256b1",
   "metadata": {},
   "outputs": [],
   "source": [
    "Procesos_2000_mas=[\"Contratación Directa (Ley 1150 de 2007)\", \"Régimen Especial\",\n",
    "                   \"Contratación Mínima Cuantía\",\"Selección Abreviada de Menor Cuantía (Ley 1150 de 2007)\",\n",
    "                   \"Subasta\", \"Licitación Pública\",\"Concurso de Méritos Abierto\",\"Contratación Directa Menor Cuantía\",\n",
    "                   \"Otras Formas de Contratación Directa\",\"Contratos y convenios con más de dos partes\",\"Licitación obra pública\"]\n",
    "Lista_tipo_de_procesos=[]\n",
    "for i in Procesos_2000_mas:\n",
    "    data=df[df[\"Tipo de Proceso\"] == i]\n",
    "    Lista_tipo_de_procesos.append(data.sample(2000))                           "
   ]
  },
  {
   "cell_type": "markdown",
   "id": "d76040fe",
   "metadata": {},
   "source": [
    "## Unión de los dataframes y exportar los datos\n",
    "Para finalizar, las diferentes muestras son agrupadas en un mismo archivo, obteniendo 22,021 procesos a los cuales se le va a extraer el contrato, en caso de tener registrado en ese proceso un contrato."
   ]
  },
  {
   "cell_type": "code",
   "execution_count": null,
   "id": "7e5c5af5",
   "metadata": {},
   "outputs": [],
   "source": [
    "df_final = pd.concat(Lista_tipo_de_procesos, ignore_index = True)"
   ]
  },
  {
   "cell_type": "code",
   "execution_count": null,
   "id": "57434c0d",
   "metadata": {},
   "outputs": [],
   "source": [
    "df_final.head()"
   ]
  },
  {
   "cell_type": "code",
   "execution_count": null,
   "id": "e6a588b0",
   "metadata": {},
   "outputs": [],
   "source": [
    "df_final.shape"
   ]
  },
  {
   "cell_type": "code",
   "execution_count": null,
   "id": "843499e1",
   "metadata": {},
   "outputs": [],
   "source": [
    "df_final[\"Codigo_contrato\"]= df_final[\"Numero de Constancia\"]"
   ]
  },
  {
   "cell_type": "code",
   "execution_count": null,
   "id": "4ae0a7a7",
   "metadata": {},
   "outputs": [],
   "source": [
    "df_final.to_csv(\"muestra_SECOP_I.csv\", index = False)"
   ]
  },
  {
   "cell_type": "code",
   "execution_count": null,
   "id": "ded06bc4",
   "metadata": {},
   "outputs": [],
   "source": [
    "lista_cod_contrato = df_final[[\"Codigo_contrato\"]]"
   ]
  },
  {
   "cell_type": "markdown",
   "id": "f0b6adaf-57ae-483c-b3dc-6c581db2bb33",
   "metadata": {},
   "source": [
    "Un trabajo con esta lista final nos permite utilizar un API de la entidad para la descarga masiva de contratos en PDF, en la carpeta contratos encontrarán algunos ejemplos, para la implementación que se hizo en este ejercicio se trabajaron con los contratos que aparecen en la base `contratos_procesados.csv`."
   ]
  },
  {
   "cell_type": "code",
   "execution_count": null,
   "id": "634acc68",
   "metadata": {},
   "outputs": [],
   "source": [
    "contratos_sql = pd.concat([contratos_sql1, contratos_sql2, contratos_sql3, contratos_sql4, contratos_sql5, contratos_sql6, contratos_sql7, contratos_sql8, contratos_sql9, contratos_sql10, contratos_sql11, contratos_sql12, contratos_sql13, contratos_sql14, contratos_sql15, contratos_sql16, contratos_sql17, contratos_sql18, contratos_sql19, contratos_sql20, contratos_sql21, contratos_sql22])"
   ]
  },
  {
   "cell_type": "markdown",
   "id": "335e2729",
   "metadata": {},
   "source": [
    "De esta forma observamos que luego de extraer los contratos de la muestra anterior, el total de la muestra disminuye y obtenemos un total de la muestra de 14,693 contratos extraidos."
   ]
  }
 ],
 "metadata": {
  "kernelspec": {
   "display_name": "Python 3 (ipykernel)",
   "language": "python",
   "name": "python3"
  },
  "language_info": {
   "codemirror_mode": {
    "name": "ipython",
    "version": 3
   },
   "file_extension": ".py",
   "mimetype": "text/x-python",
   "name": "python",
   "nbconvert_exporter": "python",
   "pygments_lexer": "ipython3",
   "version": "3.7.11"
  }
 },
 "nbformat": 4,
 "nbformat_minor": 5
}
