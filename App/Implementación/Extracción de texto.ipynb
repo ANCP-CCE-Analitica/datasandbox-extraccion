{
 "cells": [
  {
   "cell_type": "markdown",
   "metadata": {
    "application/vnd.databricks.v1+cell": {
     "inputWidgets": {},
     "nuid": "c908781c-afeb-44bc-a4dd-65ed6e0b79e6",
     "showTitle": false,
     "title": ""
    }
   },
   "source": [
    "<div style=\"  padding: 10px;text-align: center;\" class='row'>\n",
    "<div style=\"float:left;width: 10%;\" class='column'><a href=\"https://datos.gov.co/\"><img alt=\"Logo DataSandbox\"  src=\"https://github.com/DataSandbox/Plantilla-Publicacion-Resultados/raw/main/App/logdat.JPG\" style=\"width: 100px;\"></a></div>\n",
    "    <div style=\"float:left;width: 80%;\" class='column'>\n",
    "        <h1>EXTRACCIÓN DE INFORMACIÓN EN DOCUMENTOS DE PROCESOS DE CONTRATACIÓN PÚBLICA\n",
    "        </h1> \n",
    "    </div>\n",
    " <div style=\"float:left;width: 10%;\" class='column'><a href=\"https://www.colombiacompra.gov.co/\" target=\"_blank\"><img class=\"float-right\" src=\"https://raw.githubusercontent.com/ANCP-CCE-Analitica/datasandbox-extraccion/main/logo_ancp_cce_web.png\" style=\"width: 200px;\"></a></div>\n",
    "    </div>\n"
   ]
  },
  {
   "cell_type": "markdown",
   "metadata": {
    "application/vnd.databricks.v1+cell": {
     "inputWidgets": {},
     "nuid": "ca3a91ea-de4e-42ec-81d6-67c6b3f89983",
     "showTitle": false,
     "title": ""
    }
   },
   "source": [
    "# Extracción de texto\n",
    "\n",
    "El ejercicio para implementación utilizo el servicio <span style=\"color:blue\">Cognitive Service - Computer Vision</span> para la extracción de texto en <span style=\"color:red\">Azure DataBricks</span>. El funcionamiento del código exige trabajar en un cluster como el mencionado en conjunto con una <span style=\"color:green\"> Cuenta de almacenamiento de Azure</span>."
   ]
  },
  {
   "cell_type": "code",
   "execution_count": null,
   "metadata": {
    "application/vnd.databricks.v1+cell": {
     "inputWidgets": {},
     "nuid": "54670b1b-d9aa-4f36-a3ec-e7fac052786a",
     "showTitle": false,
     "title": ""
    }
   },
   "outputs": [],
   "source": [
    "import pandas as pd\n",
    "spark.conf.set (\n",
    "  \"fs.azure.account.key.dlscontratacionpuproceso.dfs.core.windows.net\",\n",
    "  dbutils.secrets.get (scope = \"contratacionpuproceso-key-vault-secrets\", key = \"StorageAccountKey\")\n",
    ")\n",
    "file_location = \"abfss://demo2@dlscontratacionpuproceso.dfs.core.windows.net/Descarga SECOP I/\"\n",
    "##Lista de archivos\n",
    "listdirdl=dbutils.fs.ls(file_location+'Descarga SECOP I/')\n",
    "\n",
    "### Base muestra\n",
    "\n",
    "df=spark.read.csv(file_location+'Muestra/muestra_SECOP_I.csv',header=True)\n"
   ]
  },
  {
   "cell_type": "markdown",
   "metadata": {
    "application/vnd.databricks.v1+cell": {
     "inputWidgets": {},
     "nuid": "4352f32b-c717-4c40-9ae1-822d3f61762b",
     "showTitle": false,
     "title": ""
    }
   },
   "source": [
    "## Preparación de los datos para la lectura de texto\n",
    "\n",
    "Enlistamos los archivos contenidos en la <span style='color:green'>Cuenta de almacenamiento (DataLake)</span> para integrar el PDF con su respectivo proceso:"
   ]
  },
  {
   "cell_type": "code",
   "execution_count": null,
   "metadata": {
    "application/vnd.databricks.v1+cell": {
     "inputWidgets": {},
     "nuid": "63f0c799-3a00-4dbf-87e0-33b59b5cb195",
     "showTitle": false,
     "title": ""
    }
   },
   "outputs": [],
   "source": [
    "Base_archivos=[]\n",
    "for j,i in enumerate(listdirdl):\n",
    "  Base_archivos.append([j,i.name.replace('/',''),i.path.replace('abfss://demo2@dlscontratacionpuproceso.dfs.core.windows.net','')])\n",
    "  \n",
    "Base_archivos=spark.createDataFrame(Base_archivos,schema=['indice','Name','Path'])"
   ]
  },
  {
   "cell_type": "code",
   "execution_count": null,
   "metadata": {
    "application/vnd.databricks.v1+cell": {
     "inputWidgets": {},
     "nuid": "1ad7c880-3566-4eb9-828d-b23928678553",
     "showTitle": false,
     "title": ""
    }
   },
   "outputs": [],
   "source": [
    "from pyspark.sql.functions import *\n",
    "df=df.withColumn(\"Codigo_contrato\", regexp_replace(col(\"Codigo_contrato\"), \"'\", \"\"))\n"
   ]
  },
  {
   "cell_type": "markdown",
   "metadata": {
    "application/vnd.databricks.v1+cell": {
     "inputWidgets": {},
     "nuid": "20abc90b-4b9f-49d1-8d8d-98724363f050",
     "showTitle": false,
     "title": ""
    }
   },
   "source": [
    "### Carga índices\n",
    "\n",
    "\n",
    "Se arregla el problema de los índices"
   ]
  },
  {
   "cell_type": "code",
   "execution_count": null,
   "metadata": {
    "application/vnd.databricks.v1+cell": {
     "inputWidgets": {},
     "nuid": "50adcf84-9980-42e9-9916-63ad85a80a8d",
     "showTitle": false,
     "title": ""
    }
   },
   "outputs": [],
   "source": [
    "indexdf2=spark.read.csv(file_location+'Muestra/index.csv',header=True)\n"
   ]
  },
  {
   "cell_type": "code",
   "execution_count": null,
   "metadata": {
    "application/vnd.databricks.v1+cell": {
     "inputWidgets": {},
     "nuid": "0dfe2051-6214-4829-9885-f03ae1fc24d0",
     "showTitle": false,
     "title": ""
    }
   },
   "outputs": [],
   "source": [
    "totaldf=df.join(indexdf2,df.Codigo_contrato==indexdf2.Codigo_contrato,\"left\")"
   ]
  },
  {
   "cell_type": "code",
   "execution_count": null,
   "metadata": {
    "application/vnd.databricks.v1+cell": {
     "inputWidgets": {},
     "nuid": "60a4ac19-74b4-477a-bd02-ef164ee17165",
     "showTitle": false,
     "title": ""
    }
   },
   "outputs": [],
   "source": [
    "totaldf_with_path=totaldf.join(Base_archivos,totaldf.Indice==Base_archivos.Name,'left')\n"
   ]
  },
  {
   "cell_type": "code",
   "execution_count": null,
   "metadata": {
    "application/vnd.databricks.v1+cell": {
     "inputWidgets": {},
     "nuid": "23bdae98-22d3-41bd-b200-b6f6328f10a6",
     "showTitle": false,
     "title": ""
    }
   },
   "outputs": [],
   "source": [
    "pdtotaldf_with_path=totaldf_with_path.toPandas()"
   ]
  },
  {
   "cell_type": "code",
   "execution_count": null,
   "metadata": {
    "application/vnd.databricks.v1+cell": {
     "inputWidgets": {},
     "nuid": "0a9bf20c-8a1d-490f-ab47-1fc51577cb2b",
     "showTitle": false,
     "title": ""
    }
   },
   "outputs": [],
   "source": [
    "pdtotaldf_with_path=pdtotaldf_with_path[~pdtotaldf_with_path.Indice.isna()]"
   ]
  },
  {
   "cell_type": "markdown",
   "metadata": {},
   "source": [
    "Se renombran las columnas:"
   ]
  },
  {
   "cell_type": "code",
   "execution_count": null,
   "metadata": {
    "application/vnd.databricks.v1+cell": {
     "inputWidgets": {},
     "nuid": "99697539-080a-4d79-b0fc-7dd7b93df6d1",
     "showTitle": false,
     "title": ""
    }
   },
   "outputs": [],
   "source": [
    "columns2=['UID', 'Anno_Cargue_SECOP', 'Anno_Firma_del Contrato', 'Nivel Entidad',\n",
    "       'Orden Entidad', 'Nombre de la Entidad', 'NIT de la Entidad',\n",
    "       'Código de la Entidad', 'ID Tipo de Proceso', 'Tipo de Proceso',\n",
    "       'Estado del Proceso', 'Causal de Otras Formas de Contratacion Directa',\n",
    "       'ID Regimen de Contratacion', 'Regimen de Contratacion',\n",
    "       'ID Objeto a Contratar', 'Objeto a Contratar',\n",
    "       'Detalle del Objeto a Contratar', 'Tipo de Contrato',\n",
    "       'Municipio Obtencion', 'Municipio Entrega', 'Municipios Ejecucion',\n",
    "       'Fecha de Cargue en el SECOP', 'Numero de Constancia',\n",
    "       'Numero de Proceso', 'Numero del Contrato', 'Cuantia Proceso',\n",
    "       'ID Grupo', 'Nombre Grupo', 'ID Familia', 'Nombre Familia', 'ID Clase',\n",
    "       'Nombre Clase', 'ID Ajudicacion', 'Tipo Identifi del Contratista',\n",
    "       'Identificacion del Contratista', 'Nom Raz Social Contratista',\n",
    "       'Dpto y Muni Contratista', 'Tipo Doc Representante Legal',\n",
    "       'Identific del Represen Legal', 'Nombre del Represen Legal',\n",
    "       'Fecha de Firma del Contrato', 'Fecha Ini Ejec Contrato',\n",
    "       'Plazo de Ejec del Contrato', 'Rango de Ejec del Contrato',\n",
    "       'Tiempo Adiciones en Dias', 'Tiempo Adiciones en Meses',\n",
    "       'Fecha Fin Ejec Contrato', 'Compromiso Presupuestal',\n",
    "       'Cuantia Contrato', 'Valor Total de Adiciones',\n",
    "       'Valor Contrato con Adiciones', 'Objeto del Contrato a la Firma',\n",
    "       'ID Origen de los Recursos', 'Origen de los Recursos', 'Codigo BPIN',\n",
    "       'Proponentes Seleccionados', 'Calificacion Definitiva',\n",
    "       'ID Sub Unidad Ejecutora', 'Nombre Sub Unidad Ejecutora',\n",
    "       'Ruta Proceso en SECOP I', 'Moneda', 'EsPostConflicto',\n",
    "       'Marcacion Adiciones', 'Posicion Rubro', 'Nombre Rubro', 'Valor Rubro',\n",
    "       'Sexo RepLegal Entidad', 'Pilar Acuerdo Paz', 'Punto Acuerdo Paz',\n",
    "       'Municipio Entidad', 'Departamento Entidad', 'Ultima Actualizacion',\n",
    "       'Fecha Liquidacion', 'Codigo_contrato_2', 'Codigo_contrato', 'Cantidad',\n",
    "       'Indice', 'indice_2', 'Name', 'Path']"
   ]
  },
  {
   "cell_type": "code",
   "execution_count": null,
   "metadata": {
    "application/vnd.databricks.v1+cell": {
     "inputWidgets": {},
     "nuid": "beaeecbf-1d01-4bae-aa46-6bb09ad13d1a",
     "showTitle": false,
     "title": ""
    }
   },
   "outputs": [],
   "source": [
    "columns2=[i.replace(\" \",\"_\") for i in columns2]\n",
    "pdtotaldf_with_path.columns=columns2"
   ]
  },
  {
   "cell_type": "code",
   "execution_count": null,
   "metadata": {
    "application/vnd.databricks.v1+cell": {
     "inputWidgets": {},
     "nuid": "f11c88c6-72d0-4fa5-b9e0-5a0afb9585f5",
     "showTitle": false,
     "title": ""
    }
   },
   "outputs": [],
   "source": [
    "totaldf_with_path=spark.createDataFrame(pdtotaldf_with_path)\n"
   ]
  },
  {
   "cell_type": "code",
   "execution_count": null,
   "metadata": {
    "application/vnd.databricks.v1+cell": {
     "inputWidgets": {},
     "nuid": "ca70e92f-be4a-47ed-90c6-9ab1ac1de571",
     "showTitle": false,
     "title": ""
    }
   },
   "outputs": [],
   "source": [
    "#totaldf_with_path.write.parquet(file_location+'/Descarga SECOP I/MUESTRA/totaldf_path_2.parquet')"
   ]
  },
  {
   "cell_type": "code",
   "execution_count": null,
   "metadata": {
    "application/vnd.databricks.v1+cell": {
     "inputWidgets": {},
     "nuid": "157627c6-161f-4631-8406-2b225bdb3611",
     "showTitle": false,
     "title": ""
    }
   },
   "outputs": [],
   "source": [
    "file_location='abfss://demo2@dlscontratacionpuproceso.dfs.core.windows.net'"
   ]
  },
  {
   "cell_type": "code",
   "execution_count": null,
   "metadata": {
    "application/vnd.databricks.v1+cell": {
     "inputWidgets": {},
     "nuid": "8c67f9f9-ef6f-491d-95ba-48fd7268985e",
     "showTitle": false,
     "title": ""
    }
   },
   "outputs": [],
   "source": [
    "name_file=dbutils.fs.ls(file_location+'/Descarga SECOP I/Descarga SECOP I/16-12-4904596-4497785/')[0].name\n"
   ]
  },
  {
   "cell_type": "markdown",
   "metadata": {},
   "source": [
    "## Uso de Computer Vision\n",
    "\n",
    "Empezamos a desplegar <span style='color:blue'> Computer Vision </span> para poder leer el texto de los documentos:"
   ]
  },
  {
   "cell_type": "code",
   "execution_count": null,
   "metadata": {
    "application/vnd.databricks.v1+cell": {
     "inputWidgets": {},
     "nuid": "d3598462-7586-4dd6-b4e9-c6d0f1bd2f2f",
     "showTitle": false,
     "title": ""
    }
   },
   "outputs": [],
   "source": [
    "from azure.storage.blob import BlobServiceClient, BlobClient, ContainerClient\n",
    "import io\n",
    "import time\n",
    "from azure.cognitiveservices.vision.computervision import ComputerVisionClient\n",
    "from msrest.authentication import CognitiveServicesCredentials\n",
    "from azure.cognitiveservices.vision.computervision.models import OperationStatusCodes\n",
    "\n",
    "stg_conn_str = \"DefaultEndpointsProtocol=https;AccountName=dlscontratacionpuproceso;AccountKey=\" + dbutils.secrets.get(scope = \"contratacionpuproceso-key-vault-secrets\", key = \"StorageAccountKey\") + \";EndpointSuffix=core.windows.net\"\n",
    "\n",
    "\n",
    "cog_key = dbutils.secrets.get(scope = \"contratacionpuproceso-key-vault-secrets\", key = \"ComputerVisionKey\")\n",
    "cog_endpoint = 'https://cog-computervision-contpubli-procesos.cognitiveservices.azure.com/'\n",
    "\n",
    "\n",
    "\n",
    "\n",
    "client = ComputerVisionClient(cog_endpoint, CognitiveServicesCredentials(cog_key))"
   ]
  },
  {
   "cell_type": "code",
   "execution_count": null,
   "metadata": {
    "application/vnd.databricks.v1+cell": {
     "inputWidgets": {},
     "nuid": "0e61b3a0-6439-44de-91ec-4cf78645bdb8",
     "showTitle": false,
     "title": ""
    }
   },
   "outputs": [],
   "source": [
    "def pdf_text(path):\n",
    "    blob_client = BlobClient.from_connection_string(conn_str=stg_conn_str,container_name=\"demo2\",blob_name=path)\n",
    "    # Images PDF with text\n",
    "    with io.BytesIO() as blob_stream:\n",
    "      blob = blob_client.download_blob()\n",
    "      blob.download_to_stream(blob_stream)\n",
    "      blob_stream.seek(0)\n",
    "      response = client.read_in_stream(blob_stream, raw=True) \n",
    "\n",
    "    # Get ID from returned headers\n",
    "    operation_location = response.headers[\"Operation-Location\"]\n",
    "    operation_id = operation_location.split(\"/\")[-1]\n",
    "\n",
    "    # SDK call that gets what is read\n",
    "    while True:\n",
    "        result = client.get_read_result(operation_id)\n",
    "        if result.status.lower() not in ['notstarted', 'running']:\n",
    "            break\n",
    "        #print ('Waiting for result...')\n",
    "        time.sleep(10)\n",
    "    return result"
   ]
  },
  {
   "cell_type": "code",
   "execution_count": null,
   "metadata": {
    "application/vnd.databricks.v1+cell": {
     "inputWidgets": {},
     "nuid": "4be01414-6dea-4c65-9bda-96a625443f0b",
     "showTitle": false,
     "title": ""
    }
   },
   "outputs": [],
   "source": [
    "error=[]\n",
    "for j in range(208):\n",
    "  List_corpus=[]\n",
    "  List_corpus_lines=[]\n",
    "  List_path=[]  \n",
    "  corpus=dict()\n",
    "  for n,i in enumerate(pdtotaldf_with_path.Path[j*100:(j+1)*100]): \n",
    "    Texto=[]\n",
    "    try:\n",
    "      name_file=dbutils.fs.ls(file_location+i)[0].name\n",
    "      result=pdf_text(i+name_file)  \n",
    "      if result.status == OperationStatusCodes.succeeded:\n",
    "        for readResult in result.analyze_result.read_results:\n",
    "          for line in readResult.lines:\n",
    "            Texto.append(line.text)\n",
    "        if n==0:\n",
    "          print(j+n)\n",
    "      else:\n",
    "        error.append((j+n,i))\n",
    "    except:\n",
    "      error.append((j+n,i))\n",
    "      continue\n",
    "    List_corpus_lines.append(Texto)\n",
    "    List_corpus.append('\\n'.join(Texto))\n",
    "    List_path.append(i)\n",
    "  corpus['Path']=List_path\n",
    "  corpus['Text_List']=List_corpus_lines\n",
    "  corpus['Text']=List_corpus\n",
    "  dfcorpus1=pd.DataFrame(corpus)\n",
    "  corpus1 = spark.createDataFrame(dfcorpus1)\n",
    "  corpus1.write.parquet(file_location+'/Descarga SECOP I/Muestra/corpus'+str(j)+'.parquet',mode='overwrite')\n",
    "  "
   ]
  },
  {
   "cell_type": "markdown",
   "metadata": {},
   "source": [
    "En este vector visualizamos los documentos que no se pudieron leer, este ejercicio permite que <span style='color:blue'> Computer Vision </span> identifique que archiivos no pueden leerse por su calidad deficiente. Así mismo se puede apreciar que se generan corpus por cada 100 contratos leidos."
   ]
  },
  {
   "cell_type": "code",
   "execution_count": null,
   "metadata": {
    "application/vnd.databricks.v1+cell": {
     "inputWidgets": {},
     "nuid": "89e50aed-a756-4efd-aca7-bdd8b9fb4521",
     "showTitle": false,
     "title": ""
    }
   },
   "outputs": [],
   "source": [
    "error"
   ]
  },
  {
   "cell_type": "code",
   "execution_count": null,
   "metadata": {
    "application/vnd.databricks.v1+cell": {
     "inputWidgets": {},
     "nuid": "b71b1cc4-f9fe-44e9-bbe8-43e3b0d1c5d2",
     "showTitle": false,
     "title": ""
    }
   },
   "outputs": [],
   "source": [
    "df=spark.read.parquet(file_location+'/Descarga SECOP I/Muestra/corpus1.parquet',mode='overwrite')\n",
    "display(df)\n"
   ]
  },
  {
   "cell_type": "code",
   "execution_count": null,
   "metadata": {
    "application/vnd.databricks.v1+cell": {
     "inputWidgets": {},
     "nuid": "e12e12fd-5b09-4483-ba77-d5cf21910b39",
     "showTitle": false,
     "title": ""
    }
   },
   "outputs": [],
   "source": [
    "dbutils.fs.ls(file_location+'/Descarga SECOP I/Muestra/')"
   ]
  },
  {
   "cell_type": "code",
   "execution_count": null,
   "metadata": {
    "application/vnd.databricks.v1+cell": {
     "inputWidgets": {},
     "nuid": "ba01dbe4-3a96-4ddb-987f-d743aee3b48e",
     "showTitle": false,
     "title": ""
    }
   },
   "outputs": [],
   "source": [
    "Base_archivos.write.parquet(file_location+'/Descarga SECOP I/Muestra/muestra_SECOP_I.parquet')"
   ]
  }
 ],
 "metadata": {
  "application/vnd.databricks.v1+notebook": {
   "dashboards": [],
   "language": "python",
   "notebookMetadata": {
    "pythonIndentUnit": 2
   },
   "notebookName": "Algoritmos OCR",
   "notebookOrigID": 345747955732280,
   "widgets": {}
  },
  "kernelspec": {
   "display_name": "Python 3 (ipykernel)",
   "language": "python",
   "name": "python3"
  },
  "language_info": {
   "codemirror_mode": {
    "name": "ipython",
    "version": 3
   },
   "file_extension": ".py",
   "mimetype": "text/x-python",
   "name": "python",
   "nbconvert_exporter": "python",
   "pygments_lexer": "ipython3",
   "version": "3.7.11"
  },
  "toc-autonumbering": false
 },
 "nbformat": 4,
 "nbformat_minor": 4
}
