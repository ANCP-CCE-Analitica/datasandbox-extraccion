{
 "cells": [
  {
   "cell_type": "code",
   "execution_count": 1,
   "id": "081b0e6a-454d-48c3-8252-21847c4ed001",
   "metadata": {},
   "outputs": [],
   "source": [
    "import pandas as pd\n",
    "from pyspark.sql import SparkSession\n",
    "from pyspark.sql.functions import col,udf\n",
    "from pyspark.sql.types import *"
   ]
  },
  {
   "cell_type": "code",
   "execution_count": 2,
   "id": "6f5f1102-826f-430f-a0f2-539b4462976b",
   "metadata": {},
   "outputs": [],
   "source": [
    "spark = SparkSession.builder.master(\"local[1]\").appName(\"SparkByExamples.com\").getOrCreate()  \n",
    "spark.conf.set(\"spark.sql.execution.arrow.enabled\", \"true\")\n",
    "spark.conf.set(\"spark.sql.crossJoin.enabled\", \"true\")"
   ]
  },
  {
   "cell_type": "code",
   "execution_count": 3,
   "id": "8d234186-3cb5-4c0e-aa18-150dd6c6657f",
   "metadata": {},
   "outputs": [],
   "source": [
    "df=spark.read.parquet('DFText_total_entities_total.parquet')"
   ]
  },
  {
   "cell_type": "code",
   "execution_count": 4,
   "id": "d2c76e10-b09d-43e8-91df-4636c3a65da9",
   "metadata": {},
   "outputs": [
    {
     "data": {
      "text/html": [
       "<div>\n",
       "<style scoped>\n",
       "    .dataframe tbody tr th:only-of-type {\n",
       "        vertical-align: middle;\n",
       "    }\n",
       "\n",
       "    .dataframe tbody tr th {\n",
       "        vertical-align: top;\n",
       "    }\n",
       "\n",
       "    .dataframe thead th {\n",
       "        text-align: right;\n",
       "    }\n",
       "</style>\n",
       "<table border=\"1\" class=\"dataframe\">\n",
       "  <thead>\n",
       "    <tr style=\"text-align: right;\">\n",
       "      <th></th>\n",
       "      <th>UID</th>\n",
       "    </tr>\n",
       "  </thead>\n",
       "  <tbody>\n",
       "    <tr>\n",
       "      <th>0</th>\n",
       "      <td>15-15-44943844163948</td>\n",
       "    </tr>\n",
       "    <tr>\n",
       "      <th>1</th>\n",
       "      <td>20-15-104697399642118</td>\n",
       "    </tr>\n",
       "    <tr>\n",
       "      <th>2</th>\n",
       "      <td>14-15-31075943189328</td>\n",
       "    </tr>\n",
       "    <tr>\n",
       "      <th>3</th>\n",
       "      <td>21-15-1205849911243790</td>\n",
       "    </tr>\n",
       "    <tr>\n",
       "      <th>4</th>\n",
       "      <td>07-2-6138959104</td>\n",
       "    </tr>\n",
       "    <tr>\n",
       "      <th>...</th>\n",
       "      <td>...</td>\n",
       "    </tr>\n",
       "    <tr>\n",
       "      <th>10363</th>\n",
       "      <td>16-4-59567975606808</td>\n",
       "    </tr>\n",
       "    <tr>\n",
       "      <th>10364</th>\n",
       "      <td>16-4-54515654971709</td>\n",
       "    </tr>\n",
       "    <tr>\n",
       "      <th>10365</th>\n",
       "      <td>20-4-1105178210203045</td>\n",
       "    </tr>\n",
       "    <tr>\n",
       "      <th>10366</th>\n",
       "      <td>16-4-52713884809039</td>\n",
       "    </tr>\n",
       "    <tr>\n",
       "      <th>10367</th>\n",
       "      <td>20-4-107155109838016</td>\n",
       "    </tr>\n",
       "  </tbody>\n",
       "</table>\n",
       "<p>10368 rows × 1 columns</p>\n",
       "</div>"
      ],
      "text/plain": [
       "                          UID\n",
       "0        15-15-44943844163948\n",
       "1       20-15-104697399642118\n",
       "2        14-15-31075943189328\n",
       "3      21-15-1205849911243790\n",
       "4             07-2-6138959104\n",
       "...                       ...\n",
       "10363     16-4-59567975606808\n",
       "10364     16-4-54515654971709\n",
       "10365   20-4-1105178210203045\n",
       "10366     16-4-52713884809039\n",
       "10367    20-4-107155109838016\n",
       "\n",
       "[10368 rows x 1 columns]"
      ]
     },
     "execution_count": 4,
     "metadata": {},
     "output_type": "execute_result"
    }
   ],
   "source": [
    "df.select('UID').toPandas()"
   ]
  },
  {
   "cell_type": "code",
   "execution_count": 5,
   "id": "3418811e-a851-4a29-91a4-bf8018480539",
   "metadata": {},
   "outputs": [],
   "source": [
    "#df.select('Entidades').toPandas()"
   ]
  },
  {
   "cell_type": "code",
   "execution_count": 6,
   "id": "868c9204-4573-485a-93f5-db3e921092c5",
   "metadata": {},
   "outputs": [],
   "source": [
    "df_1=spark.read.parquet('DFText_total_entities1.parquet')\n",
    "df_2=spark.read.parquet('DFText_total_entities2.parquet')\n",
    "df_3=spark.read.parquet('DFText_total_entities3.parquet')"
   ]
  },
  {
   "cell_type": "code",
   "execution_count": 7,
   "id": "64a8d6a0-7aa5-440c-b318-4f230a7b677a",
   "metadata": {},
   "outputs": [
    {
     "data": {
      "text/plain": [
       "7368"
      ]
     },
     "execution_count": 7,
     "metadata": {},
     "output_type": "execute_result"
    }
   ],
   "source": [
    "l1=list([list(i)[0] for i in df_1.select('UID').toPandas().values])\n",
    "l2=list([list(i)[0] for i in df_2.select('UID').toPandas().values])\n",
    "l3=list([list(i)[0] for i in df_3.select('UID').toPandas().values])\n",
    "ltotal=l1+l2+l3\n",
    "len(ltotal)"
   ]
  },
  {
   "cell_type": "code",
   "execution_count": 8,
   "id": "9ded09fc-40c1-40f3-b7fb-0368a0f7590f",
   "metadata": {},
   "outputs": [],
   "source": [
    "def select_new(uid):\n",
    "    if uid in ltotal:\n",
    "        res='s'\n",
    "    else:\n",
    "        res='n'\n",
    "    return res\n",
    "    "
   ]
  },
  {
   "cell_type": "code",
   "execution_count": 9,
   "id": "08044555-3e48-42de-b6b7-017f55ed744e",
   "metadata": {},
   "outputs": [],
   "source": [
    "select_new_udf = udf(lambda z: select_new(z),StringType())"
   ]
  },
  {
   "cell_type": "code",
   "execution_count": 10,
   "id": "60b39851-c45b-4944-9efc-b23f06437bfd",
   "metadata": {},
   "outputs": [],
   "source": [
    "df=df.withColumn(\"Filter_1\", select_new_udf(col(\"UID\"))) "
   ]
  },
  {
   "cell_type": "code",
   "execution_count": 11,
   "id": "31a25bb9-2302-406a-bc10-c1f7b620b791",
   "metadata": {},
   "outputs": [],
   "source": [
    "df2=df.filter(df.Filter_1=='n')"
   ]
  },
  {
   "cell_type": "code",
   "execution_count": 12,
   "id": "e6b2eaed-2085-4396-a3cb-36845f1058e5",
   "metadata": {},
   "outputs": [
    {
     "data": {
      "text/plain": [
       "3000"
      ]
     },
     "execution_count": 12,
     "metadata": {},
     "output_type": "execute_result"
    }
   ],
   "source": [
    "df2.select('Entidades').count()"
   ]
  },
  {
   "cell_type": "code",
   "execution_count": 14,
   "id": "74d17f58-48d1-4351-bbdd-10c9e491f736",
   "metadata": {},
   "outputs": [],
   "source": [
    "DFparquet=pd.read_parquet('DFText_total_entities_total.parquet')"
   ]
  },
  {
   "cell_type": "code",
   "execution_count": 30,
   "id": "42538cb0-6895-4192-a193-0d1b0383d8d9",
   "metadata": {},
   "outputs": [
    {
     "data": {
      "text/html": [
       "<div>\n",
       "<style scoped>\n",
       "    .dataframe tbody tr th:only-of-type {\n",
       "        vertical-align: middle;\n",
       "    }\n",
       "\n",
       "    .dataframe tbody tr th {\n",
       "        vertical-align: top;\n",
       "    }\n",
       "\n",
       "    .dataframe thead th {\n",
       "        text-align: right;\n",
       "    }\n",
       "</style>\n",
       "<table border=\"1\" class=\"dataframe\">\n",
       "  <thead>\n",
       "    <tr style=\"text-align: right;\">\n",
       "      <th></th>\n",
       "      <th>0</th>\n",
       "      <th>1</th>\n",
       "    </tr>\n",
       "  </thead>\n",
       "  <tbody>\n",
       "    <tr>\n",
       "      <th>0</th>\n",
       "      <td>Confianza</td>\n",
       "      <td>[0.8, 0.8, 0.8, 0.8, 0.8, 0.67, 0.88, 0.55, 0....</td>\n",
       "    </tr>\n",
       "  </tbody>\n",
       "</table>\n",
       "</div>"
      ],
      "text/plain": [
       "           0                                                  1\n",
       "0  Confianza  [0.8, 0.8, 0.8, 0.8, 0.8, 0.67, 0.88, 0.55, 0...."
      ]
     },
     "execution_count": 30,
     "metadata": {},
     "output_type": "execute_result"
    }
   ],
   "source": [
    "pd.DataFrame(DFparquet['Entidades'][0][1]).transpose()"
   ]
  },
  {
   "cell_type": "code",
   "execution_count": 40,
   "id": "077a9b16-8ab4-4520-be43-4e24d66241c2",
   "metadata": {},
   "outputs": [
    {
     "data": {
      "text/plain": [
       "UID           object\n",
       "Text          object\n",
       "clean_text    object\n",
       "Entidades     object\n",
       "dtype: object"
      ]
     },
     "execution_count": 40,
     "metadata": {},
     "output_type": "execute_result"
    }
   ],
   "source": [
    "DFparquet.dtypes"
   ]
  },
  {
   "cell_type": "code",
   "execution_count": 76,
   "id": "7148a35f-3435-4d95-9bcc-e907f1e360ed",
   "metadata": {},
   "outputs": [],
   "source": [
    "def func_2(entidades):\n",
    "    dic_0=dict()\n",
    "    for i in entidades:\n",
    "        dic_0[i[0]]=i[1]\n",
    "    return dic_0"
   ]
  },
  {
   "cell_type": "code",
   "execution_count": 79,
   "id": "a614a321-a60c-4c0f-bc7d-43ff0576c738",
   "metadata": {},
   "outputs": [],
   "source": [
    "DFparquet['Entidades']=DFparquet['Entidades'].apply(func_2)"
   ]
  },
  {
   "cell_type": "code",
   "execution_count": 46,
   "id": "394de5db-c7f1-44db-b5af-ab6db83e1ee2",
   "metadata": {},
   "outputs": [
    {
     "data": {
      "text/plain": [
       "array(['Number', None, 'DateRange', 'Currency', 'Dimension', 'GPE',\n",
       "       'Percentage'], dtype=object)"
      ]
     },
     "execution_count": 46,
     "metadata": {},
     "output_type": "execute_result"
    }
   ],
   "source": [
    "DFparquet['Entidades'].apply(func_2)[0]['Subcategoría'].unique()"
   ]
  },
  {
   "cell_type": "code",
   "execution_count": 80,
   "id": "10919abd-c4ee-4cf4-9470-704808651c3a",
   "metadata": {},
   "outputs": [],
   "source": [
    "DFparquet.to_json('Total_data.json')"
   ]
  },
  {
   "cell_type": "code",
   "execution_count": 81,
   "id": "f80575d6-c92a-4364-b835-8b9a83a8d230",
   "metadata": {},
   "outputs": [
    {
     "data": {
      "text/html": [
       "<div>\n",
       "<style scoped>\n",
       "    .dataframe tbody tr th:only-of-type {\n",
       "        vertical-align: middle;\n",
       "    }\n",
       "\n",
       "    .dataframe tbody tr th {\n",
       "        vertical-align: top;\n",
       "    }\n",
       "\n",
       "    .dataframe thead th {\n",
       "        text-align: right;\n",
       "    }\n",
       "</style>\n",
       "<table border=\"1\" class=\"dataframe\">\n",
       "  <thead>\n",
       "    <tr style=\"text-align: right;\">\n",
       "      <th></th>\n",
       "      <th>UID</th>\n",
       "      <th>Text</th>\n",
       "      <th>clean_text</th>\n",
       "      <th>Entidades</th>\n",
       "    </tr>\n",
       "  </thead>\n",
       "  <tbody>\n",
       "    <tr>\n",
       "      <th>0</th>\n",
       "      <td>15-1-1484634171659</td>\n",
       "      <td>DO DE PERTENENCIA\\n196\\nENTINO\\nMEJOR QUE PROM...</td>\n",
       "      <td>DO DE PERTENENCIA 196 ENTINO MEJOR QUE PROMESA...</td>\n",
       "      <td>{'Compensación': ['18', '75', '79', '83', '88'...</td>\n",
       "    </tr>\n",
       "    <tr>\n",
       "      <th>1</th>\n",
       "      <td>13-1-874921496833</td>\n",
       "      <td>ALCALDÍA DE\\ntagůì\\nEn Itagui se vive mejor.\\n...</td>\n",
       "      <td>ALCALDÍA DE TAGŮÌ EN ITAGUI SE VIVE MEJOR. CON...</td>\n",
       "      <td>{'Compensación': ['0', '12', '21', '97', '110'...</td>\n",
       "    </tr>\n",
       "    <tr>\n",
       "      <th>2</th>\n",
       "      <td>14-1-1314883325605</td>\n",
       "      <td>REPUBLICA DE COLOMBIA\\n*\\n★\\nDEPARTAMENTO DEL ...</td>\n",
       "      <td>REPUBLICA DE COLOMBIA * ★ DEPARTAMENTO DEL MAG...</td>\n",
       "      <td>{'Compensación': ['0', '43', '66', '88', '133'...</td>\n",
       "    </tr>\n",
       "    <tr>\n",
       "      <th>3</th>\n",
       "      <td>08-1-39609264810</td>\n",
       "      <td>TIM\\nPLANOPENISE INTEGRADO DE MANGEALES S.A.\\n...</td>\n",
       "      <td>TIM PLANOPENISE INTEGRADO DE MANGEALES S.A. CO...</td>\n",
       "      <td>{'Compensación': ['0', '57', '59', '62', '169'...</td>\n",
       "    </tr>\n",
       "    <tr>\n",
       "      <th>4</th>\n",
       "      <td>18-1-1955887908639</td>\n",
       "      <td>CÓDIGO: A1F005\\nDEPARTAMENTO DE ANTIOQUIA\\nMUN...</td>\n",
       "      <td>CÓDIGO: A1F005 DEPARTAMENTO DE ANTIOQUIA MUNIC...</td>\n",
       "      <td>{'Compensación': ['15', '41', '77', '102', '12...</td>\n",
       "    </tr>\n",
       "    <tr>\n",
       "      <th>...</th>\n",
       "      <td>...</td>\n",
       "      <td>...</td>\n",
       "      <td>...</td>\n",
       "      <td>...</td>\n",
       "    </tr>\n",
       "    <tr>\n",
       "      <th>10363</th>\n",
       "      <td>16-4-59567975606808</td>\n",
       "      <td>REPUBLICA DE COLOMBIA\\nDEPARTAMENTO DEL TOLIMA...</td>\n",
       "      <td>REPUBLICA DE COLOMBIA DEPARTAMENTO DEL TOLIMA ...</td>\n",
       "      <td>{'Compensación': ['0', '22', '152', '218', '24...</td>\n",
       "    </tr>\n",
       "    <tr>\n",
       "      <th>10364</th>\n",
       "      <td>16-4-54515654971709</td>\n",
       "      <td>Municipio de San Benito Abad\\n&amp;TY\\nNIT 8922800...</td>\n",
       "      <td>MUNICIPIO DE SAN BENITO ABAD &amp;TY NIT 892280054...</td>\n",
       "      <td>{'Compensación': ['0', '17', '37', '48', '51',...</td>\n",
       "    </tr>\n",
       "    <tr>\n",
       "      <th>10365</th>\n",
       "      <td>20-4-1105178210203045</td>\n",
       "      <td>HSL\\nHOSPITAL SANTA LUCÍA E.S.E.OH\\nRONCESVALL...</td>\n",
       "      <td>HSL HOSPITAL SANTA LUCÍA E.S.E.OH RONCESVALLES...</td>\n",
       "      <td>{'Compensación': ['0', '34', '60', '73', '99',...</td>\n",
       "    </tr>\n",
       "    <tr>\n",
       "      <th>10366</th>\n",
       "      <td>16-4-52713884809039</td>\n",
       "      <td>CONTRATO Nº 10\\nMANTENIMIENTO, ARREGLO DE CHAP...</td>\n",
       "      <td>CONTRATO Nº 10 MANTENIMIENTO, ARREGLO DE CHAPA...</td>\n",
       "      <td>{'Compensación': ['12', '15', '63', '89', '104...</td>\n",
       "    </tr>\n",
       "    <tr>\n",
       "      <th>10367</th>\n",
       "      <td>20-4-107155109838016</td>\n",
       "      <td>REPÚBLICA DE COLOMBIA\\nINSTITUCIÓN EDUCATIVA S...</td>\n",
       "      <td>REPÚBLICA DE COLOMBIA INSTITUCIÓN EDUCATIVA SA...</td>\n",
       "      <td>{'Compensación': ['0', '22', '96', '102', '102...</td>\n",
       "    </tr>\n",
       "  </tbody>\n",
       "</table>\n",
       "<p>10368 rows × 4 columns</p>\n",
       "</div>"
      ],
      "text/plain": [
       "                         UID  \\\n",
       "0         15-1-1484634171659   \n",
       "1          13-1-874921496833   \n",
       "2         14-1-1314883325605   \n",
       "3           08-1-39609264810   \n",
       "4         18-1-1955887908639   \n",
       "...                      ...   \n",
       "10363    16-4-59567975606808   \n",
       "10364    16-4-54515654971709   \n",
       "10365  20-4-1105178210203045   \n",
       "10366    16-4-52713884809039   \n",
       "10367   20-4-107155109838016   \n",
       "\n",
       "                                                    Text  \\\n",
       "0      DO DE PERTENENCIA\\n196\\nENTINO\\nMEJOR QUE PROM...   \n",
       "1      ALCALDÍA DE\\ntagůì\\nEn Itagui se vive mejor.\\n...   \n",
       "2      REPUBLICA DE COLOMBIA\\n*\\n★\\nDEPARTAMENTO DEL ...   \n",
       "3      TIM\\nPLANOPENISE INTEGRADO DE MANGEALES S.A.\\n...   \n",
       "4      CÓDIGO: A1F005\\nDEPARTAMENTO DE ANTIOQUIA\\nMUN...   \n",
       "...                                                  ...   \n",
       "10363  REPUBLICA DE COLOMBIA\\nDEPARTAMENTO DEL TOLIMA...   \n",
       "10364  Municipio de San Benito Abad\\n&TY\\nNIT 8922800...   \n",
       "10365  HSL\\nHOSPITAL SANTA LUCÍA E.S.E.OH\\nRONCESVALL...   \n",
       "10366  CONTRATO Nº 10\\nMANTENIMIENTO, ARREGLO DE CHAP...   \n",
       "10367  REPÚBLICA DE COLOMBIA\\nINSTITUCIÓN EDUCATIVA S...   \n",
       "\n",
       "                                              clean_text  \\\n",
       "0      DO DE PERTENENCIA 196 ENTINO MEJOR QUE PROMESA...   \n",
       "1      ALCALDÍA DE TAGŮÌ EN ITAGUI SE VIVE MEJOR. CON...   \n",
       "2      REPUBLICA DE COLOMBIA * ★ DEPARTAMENTO DEL MAG...   \n",
       "3      TIM PLANOPENISE INTEGRADO DE MANGEALES S.A. CO...   \n",
       "4      CÓDIGO: A1F005 DEPARTAMENTO DE ANTIOQUIA MUNIC...   \n",
       "...                                                  ...   \n",
       "10363  REPUBLICA DE COLOMBIA DEPARTAMENTO DEL TOLIMA ...   \n",
       "10364  MUNICIPIO DE SAN BENITO ABAD &TY NIT 892280054...   \n",
       "10365  HSL HOSPITAL SANTA LUCÍA E.S.E.OH RONCESVALLES...   \n",
       "10366  CONTRATO Nº 10 MANTENIMIENTO, ARREGLO DE CHAPA...   \n",
       "10367  REPÚBLICA DE COLOMBIA INSTITUCIÓN EDUCATIVA SA...   \n",
       "\n",
       "                                               Entidades  \n",
       "0      {'Compensación': ['18', '75', '79', '83', '88'...  \n",
       "1      {'Compensación': ['0', '12', '21', '97', '110'...  \n",
       "2      {'Compensación': ['0', '43', '66', '88', '133'...  \n",
       "3      {'Compensación': ['0', '57', '59', '62', '169'...  \n",
       "4      {'Compensación': ['15', '41', '77', '102', '12...  \n",
       "...                                                  ...  \n",
       "10363  {'Compensación': ['0', '22', '152', '218', '24...  \n",
       "10364  {'Compensación': ['0', '17', '37', '48', '51',...  \n",
       "10365  {'Compensación': ['0', '34', '60', '73', '99',...  \n",
       "10366  {'Compensación': ['12', '15', '63', '89', '104...  \n",
       "10367  {'Compensación': ['0', '22', '96', '102', '102...  \n",
       "\n",
       "[10368 rows x 4 columns]"
      ]
     },
     "execution_count": 81,
     "metadata": {},
     "output_type": "execute_result"
    }
   ],
   "source": [
    "pd.read_json('Total_data.json')"
   ]
  },
  {
   "cell_type": "code",
   "execution_count": null,
   "id": "11b5294d-e7d5-4d41-b6b1-f6fe934e467a",
   "metadata": {},
   "outputs": [],
   "source": []
  }
 ],
 "metadata": {
  "kernelspec": {
   "display_name": "Python 3 (ipykernel)",
   "language": "python",
   "name": "python3"
  },
  "language_info": {
   "codemirror_mode": {
    "name": "ipython",
    "version": 3
   },
   "file_extension": ".py",
   "mimetype": "text/x-python",
   "name": "python",
   "nbconvert_exporter": "python",
   "pygments_lexer": "ipython3",
   "version": "3.7.11"
  }
 },
 "nbformat": 4,
 "nbformat_minor": 5
}
